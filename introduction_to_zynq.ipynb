{
 "cells": [
  {
   "cell_type": "markdown",
   "metadata": {},
   "source": [
    "# Introduction to Zynq"
   ]
  },
  {
   "cell_type": "markdown",
   "metadata": {},
   "source": [
    "The Zynq architecture, as the generation of Xilix’s all-programmable System-on-Chip (SoC) families, combines a dual-core ARM Cortex-A9 with a traditional (FPGA). The interface between the different elements within the Zynq architecture is based on the Advanced eXtensible Interface (AXI) standard, which provides for high bandwidth and low latency connections."
   ]
  },
  {
   "cell_type": "markdown",
   "metadata": {},
   "source": [
    "## Zynq 7000 SoC Architecture\n",
    "\n",
    "● Complete ARM®-based Processing System\n",
    "\n",
    "    ○ Dual ARM Cortex™-A9 MPCore™, processor centric\n",
    "    ○ Integrated memory controllers & peripherals\n",
    "    ○ Fully autonomous to the Programmable Logic\n",
    "    \n",
    "● Tightly Integrated Programmable Logic\n",
    "\n",
    "    ○ Used to extend Processing System\n",
    "    ○ Scalable density and performance\n",
    "    ○ Over 3000 internal interconnects\n",
    "    \n",
    "● Flexible Array of I/O\n",
    "\n",
    "    ○ Wide range of external multi-standard I/O\n",
    "    ○ High performance integrated serial transceivers\n",
    "    ○ Analog-to-Digital Converter inputs"
   ]
  },
  {
   "cell_type": "markdown",
   "metadata": {},
   "source": [
    "## Zynq 7000 Architecture"
   ]
  },
  {
   "cell_type": "markdown",
   "metadata": {},
   "source": [
    "![Zynq 7000](img/Zynq_7000.PNG)\n"
   ]
  },
  {
   "cell_type": "markdown",
   "metadata": {},
   "source": [
    "## The PS and the PL\n",
    "The Zynq-7000 AP SoC architecture consists of two major sections\n",
    "\n",
    "– PS: Processing system\n",
    "\n",
    "    • Dual ARM Cortex-A9 processor based\n",
    "    • Multiple peripherals\n",
    "    • Hard silicon core\n",
    "    \n",
    "– PL: Programmable logic\n",
    "\n",
    "    • Shares the same 7 series programmable logic as\n",
    "         Artix™-based devices: Z-7010 and Z-7020 (high-range I/O banks only)\n",
    "         Kintex™-based devices: Z-7030 and Z-7045 (mix of high-range and high-performance I/O banks)"
   ]
  },
  {
   "cell_type": "markdown",
   "metadata": {},
   "source": [
    "## Xilinx and ARM Address New Markets"
   ]
  },
  {
   "cell_type": "code",
   "execution_count": 10,
   "metadata": {
    "collapsed": false,
    "jupyter": {
     "outputs_hidden": false
    }
   },
   "outputs": [
    {
     "data": {
      "text/html": [
       "<iframe width=\"560\" height=\"315\" src=\"https://www.youtube.com/embed/FZgU-w5EfoI?rel=0&amp;controls=0&amp;showinfo=0\" frameborder=\"0\" allowfullscreen></iframe>"
      ],
      "text/plain": [
       "<IPython.core.display.HTML object>"
      ]
     },
     "execution_count": 10,
     "metadata": {},
     "output_type": "execute_result"
    }
   ],
   "source": [
    "from IPython.display import HTML\n",
    "HTML('<iframe width=\"560\" height=\"315\" src=\"https://www.youtube.com/embed/FZgU-w5EfoI?rel=0&amp;controls=0&amp;showinfo=0\" frameborder=\"0\" allowfullscreen></iframe>')"
   ]
  },
  {
   "cell_type": "code",
   "execution_count": null,
   "metadata": {
    "collapsed": false,
    "jupyter": {
     "outputs_hidden": false
    }
   },
   "outputs": [],
   "source": []
  },
  {
   "cell_type": "code",
   "execution_count": null,
   "metadata": {
    "collapsed": false,
    "jupyter": {
     "outputs_hidden": false
    }
   },
   "outputs": [],
   "source": []
  }
 ],
 "metadata": {
  "kernelspec": {
   "display_name": "Python 3",
   "language": "python",
   "name": "python3"
  },
  "language_info": {
   "codemirror_mode": {
    "name": "ipython",
    "version": 3
   },
   "file_extension": ".py",
   "mimetype": "text/x-python",
   "name": "python",
   "nbconvert_exporter": "python",
   "pygments_lexer": "ipython3",
   "version": "3.6.5"
  }
 },
 "nbformat": 4,
 "nbformat_minor": 4
}
