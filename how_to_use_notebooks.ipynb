{
 "cells": [
  {
   "cell_type": "markdown",
   "metadata": {},
   "source": [
    "# Welcome to the Jupyter Notebook Tutorial #\n",
    "\n",
    "This notebook covers an overview of Jupyter, and how to run the Jupyter notebooks for these Xilinx tutorials. This notebook assumes you have basic knowledge of coding terminology. "
   ]
  },
  {
   "cell_type": "markdown",
   "metadata": {},
   "source": [
    "### Organization of Jupyter Notebooks ###\n",
    "\n",
    "Jupyter Notebook is an open source web application where you can create and share code, equations, visualizations, and text. \n",
    "\n",
    "Jupyter supports a range of software languages: Julia, Python, R. Each notebook is organized into cells where users can write and run code within a cell. In Cocalc, you may notice the numbers of the right of the page, indicating the cell number. After a cells has completed a run, there will be a number in the In[] to indicate how long it ran. There may also be the output printed below the cell. See the example below"
   ]
  },
  {
   "cell_type": "code",
   "execution_count": 1,
   "metadata": {
    "collapsed": false,
    "jupyter": {
     "outputs_hidden": false
    }
   },
   "outputs": [
    {
     "name": "stdout",
     "output_type": "stream",
     "text": [
      "Some Useful Code\n"
     ]
    }
   ],
   "source": [
    "print(\"Some Useful Code\")"
   ]
  },
  {
   "cell_type": "markdown",
   "metadata": {},
   "source": [
    "There are many features for Jupyter notebooks - we will be covering a few concepts in this notebook in order to run through the Xilinx notebooks\n",
    "\n",
    "If you want to know more about Jupyter, you can use the following links: \n",
    " - https://realpython.com/jupyter-notebook-introduction/#:~:text=The%20Jupyter%20Notebook%20is%20an,equations%2C%20visualizations%2C%20and%20text.&text=Jupyter%20Notebooks%20are%20a%20spin,an%20IPython%20Notebook%20project%20itself.\n",
    " - https://jupyter-notebook.readthedocs.io/en/stable/examples/Notebook/What%20is%20the%20Jupyter%20Notebook.html"
   ]
  },
  {
   "cell_type": "markdown",
   "metadata": {},
   "source": [
    "### Manage Cells ###\n",
    "\n",
    "In the top, there is a bar of icons that you can use to manage cells in the top of the page. \n",
    " - <kbd>+</kbd>: adds a new cell below the current cell\n",
    " - <kbd>&#8593;</kbd> : move the selected cell up\n",
    " - <kbd>&#8595;</kbd> : move the selected cell down\n",
    " - <kbd>&#9658;</kbd>: Run cells and select below\n",
    " - <kbd>&#10227;</kbd>: Interrupt/stop the kernel\n",
    " - <kbd>&#9658;</kbd> Restart Kernel/Interrupt variables\n",
    " - <kbd>&#9658;&#9658;</kbd> Restart and run all cells\n",
    " - <kbd>tab</kbd>: Inserts a tab in your cell when editing"
   ]
  },
  {
   "cell_type": "markdown",
   "metadata": {},
   "source": [
    "### Editing Cells ###\n",
    "\n",
    "To edit an cell, click within the gray borders of a cell, and notice that a green bar shows up on the left side of the cells as shown below:\n",
    "\n",
    "In this mode, you can write your code. Write something in the cell below to test. And if you want to add a new line in the code, press the <kbd>Enter</kbd> button."
   ]
  },
  {
   "cell_type": "code",
   "execution_count": 3,
   "metadata": {
    "collapsed": false,
    "jupyter": {
     "outputs_hidden": false
    }
   },
   "outputs": [],
   "source": [
    "## Edit this Cell by adding some code below ##"
   ]
  },
  {
   "cell_type": "markdown",
   "metadata": {},
   "source": [
    "### Running a cell ###\n",
    "There are multiple ways to run a cell in Jupyter Notebook. \n",
    "\n",
    "1. You can run cells from the \"Cell\" tab above. There are many options, such as Running the cell, inserting a cell after completing a run, running all the cells, etc.\n",
    "2. You can also run a cell with the following commands when in edit mode for a cell: press <kbd>Shift</kbd>+<kbd>Enter</kbd>"
   ]
  },
  {
   "cell_type": "markdown",
   "metadata": {},
   "source": [
    "### Restarting Kernel ###\n",
    "\n",
    "Sometimes you will need to reset variables within your code. You can do this by reseting the kernel. Under the \"Kernel\" tab at the top of the screen, you can select \"Restart Kernel\" to clear out the variables in the notebook. Try it out in the cell below to successfully "
   ]
  },
  {
   "cell_type": "markdown",
   "metadata": {},
   "source": [
    "### Other Keyboard Shortcuts ###\n",
    "You can also look under the Help tab, and then select \"Keyboard shortcuts\""
   ]
  },
  {
   "cell_type": "code",
   "execution_count": null,
   "metadata": {
    "collapsed": false,
    "jupyter": {
     "outputs_hidden": false
    }
   },
   "outputs": [],
   "source": []
  }
 ],
 "metadata": {
  "kernelspec": {
   "display_name": "Python 3",
   "language": "python",
   "name": "python3"
  },
  "language_info": {
   "codemirror_mode": {
    "name": "ipython",
    "version": 3
   },
   "file_extension": ".py",
   "mimetype": "text/x-python",
   "name": "python",
   "nbconvert_exporter": "python",
   "pygments_lexer": "ipython3",
   "version": "3.6.5"
  }
 },
 "nbformat": 4,
 "nbformat_minor": 4
}
