{
 "cells": [
  {
   "cell_type": "markdown",
   "metadata": {
    "nbgrader": {
     "grade": false,
     "grade_id": "c1",
     "locked": true,
     "schema_version": 3,
     "solution": false,
     "task": false
    }
   },
   "source": [
    "# Morse Code #\n",
    "\n",
    "This notebook covers some basic functions of Python, and use them to encrypt and decrypt Morse code."
   ]
  },
  {
   "cell_type": "markdown",
   "metadata": {
    "nbgrader": {
     "grade": false,
     "grade_id": "c2",
     "locked": true,
     "schema_version": 3,
     "solution": false,
     "task": false
    }
   },
   "source": [
    "### History of Morse Code ###\n",
    "\n",
    "Invented by Samuel Morse in 1830s and 1840s,telecommunication took a large leap in long-distance communication. Morse code assigns a set of dots and dashes to each letter in the alphabet. The first telegraph message was sent from Washington D.C. to Baltimore, Maryland in 1844. The Morse Code was eventually replaced by telephones in the 21st Century. \n",
    "The alphabet and the associated Morse code is shown below: <br>\n",
    "<img src=\"https://miro.medium.com/max/700/1*1mOO6Lmh9ASEp_BRZvOJKQ.jpeg\"\n",
    "     alt=\"Markdown Monster icon\"\n",
    "     style=\"float: center; margin-right: 0px;\"\n",
    "     width = '400px'\n",
    "     height = '300px'\n",
    "     />"
   ]
  },
  {
   "cell_type": "markdown",
   "metadata": {
    "nbgrader": {
     "grade": false,
     "grade_id": "c3",
     "locked": true,
     "schema_version": 3,
     "solution": false,
     "task": false
    }
   },
   "source": [
    "### Dicitionary ###\n",
    "\n",
    "When creating a list of variables, coders will often group related variables (such as the letters in the alphabet) into a **dictionary**. A dictionary has words (called keys), with definitions (called values). Dictionaries in Python are defined using \"{'key1':'value1', 'key2': 'value2'}\" Check out the example below:\n",
    "\n",
    "<pre><code>dictionary = {'key1': 'value1'.\n",
    "              'key2': 'value2'\n",
    "             }</code></pre>"
   ]
  },
  {
   "cell_type": "markdown",
   "metadata": {},
   "source": [
    "### Let's try an example for creating the Morse code alphabet ###\n",
    "Let's try to work out an example. Write a dictionary in the cell below for the Morse code alphabet. \n",
    "Set the keys to be the English alphabet, and set the values to be the Morse code translation. \n",
    "(Example: 'A': '.-')"
   ]
  },
  {
   "cell_type": "code",
   "execution_count": 4,
   "metadata": {
    "collapsed": false,
    "jupyter": {
     "outputs_hidden": false
    }
   },
   "outputs": [],
   "source": [
    "# Dictionary for Morse Code #\n",
    "\n",
    "### BEGIN CODE HERE ###\n",
    "\n",
    "### END CODE HERE ###"
   ]
  },
  {
   "cell_type": "markdown",
   "metadata": {
    "nbgrader": {
     "grade": false,
     "grade_id": "c4",
     "locked": true,
     "schema_version": 3,
     "solution": false,
     "task": false
    }
   },
   "source": [
    "### Conditional Statements - \"If/Elif/Else\" ###\n",
    "One of the most useful coding functions are if-elif-else statements.  Each code block starts with a conditional statement, ending with \":\". The proceeding \"then\" statements are indented. See the below example for the conditional statement format:\n",
    "<pre><code>if statement_1 is true:\n",
    "    action1\n",
    "    action2\n",
    "elif statement_2 is true:\n",
    "    action3\n",
    "else:\n",
    "    action 4</code></pre>\n",
    "The \"If\" statement is read first. If the first conditional statement is true, the indented code (i.e. action1 and action2) are carried out. The other actions under the other two statements are not carried out. If the first conditional statement isn't true, then the second conditional statement is read, and if true, the indented code (action3) is carried out intsead. If none of the if & elif statements are true, then the code underneath the else statement is carried out.\n",
    "\n",
    "\n"
   ]
  },
  {
   "cell_type": "markdown",
   "metadata": {},
   "source": [
    "### Let's try an example to create conditional statements ###\n",
    "Write an if-else statement where it will print out \"true\" when the \"if\" statement is true, and will print out \"false\" when \"else\" is true"
   ]
  },
  {
   "cell_type": "code",
   "execution_count": 5,
   "metadata": {
    "collapsed": false,
    "jupyter": {
     "outputs_hidden": false
    }
   },
   "outputs": [],
   "source": [
    "# If-Else Example #\n",
    "\n",
    "### BEGIN CODE HERE ###\n",
    "\n",
    "### END CODE HERE ###"
   ]
  },
  {
   "cell_type": "markdown",
   "metadata": {
    "nbgrader": {
     "grade": false,
     "grade_id": "c5",
     "locked": true,
     "schema_version": 3,
     "solution": false,
     "task": false
    }
   },
   "source": [
    "### For Loop ### \n",
    "Another useful function in Python is the \"for\" loop. In a \"for\" loop, code is repeated for a set amount of iterations, as defined in the \"for\" statement, which includes \":\" at the end.\n",
    "\n",
    "<pre><code>for x in variable: --> This line means for each number of variables in \"txt\" variable:\n",
    "    perform a function </pre></code>\n",
    "    \n",
    "Sample code:\n",
    "<pre><code>for x in input:\n",
    "    print('Hello')</pre></code>\n",
    "    \n",
    "The above code will print out the code for however many variables are in text. \n",
    "\n",
    "\n",
    "NOTE: a useful feature in \"for\" loops. If you want to add multiple characters to a single variable, you can do the following:\n",
    "\n",
    "<pre><code>output = ''\n",
    "dictionary = {'key1': 'value1','key2':'value2'}\n",
    "for x in input:\n",
    "    output += dictionary.get(x)</pre></code>\n",
    "\n",
    "The above code will extract the appropriate value from the dictionary based on the input key \"x\" in the for loop"
   ]
  },
  {
   "cell_type": "markdown",
   "metadata": {},
   "source": [
    "#### Try coding a for loop that prints out the numbers 1-10 , one at a time.\n",
    "\n",
    "Remember to use the syntax above. You can loop through a list variable (that is, a variable with a list or list like data type, such as an array or a string, which is a \"list\" of characters.), or you can use \"in range(x)\", where x is the number of times you wish to run the loop. Which do you believe is more suitable for this task?"
   ]
  },
  {
   "cell_type": "code",
   "execution_count": 6,
   "metadata": {
    "collapsed": false,
    "jupyter": {
     "outputs_hidden": false
    }
   },
   "outputs": [],
   "source": [
    "def loop():\n",
    "    \n",
    "    ##Your code here.##\n",
    "    \n",
    "    return "
   ]
  },
  {
   "cell_type": "markdown",
   "metadata": {
    "nbgrader": {
     "grade": false,
     "grade_id": "c6",
     "locked": true,
     "schema_version": 3,
     "solution": false,
     "task": false
    }
   },
   "source": [
    "### Useful functions for Morse code ###\n",
    "\n",
    "* **startswith(prefix[,start[,end]])**: checks if a string \"prefix\" if beginning position (start) and ending position (end)\n",
    "* **split(' ')**: this function will separate by a separator varible. If it is empty quotation marks, then the variable will be separated by empty space.\n",
    "* **get( )**: this function retrives the value of a defined key. For example, if a variable var = 'A', A.get() will retrive the Morse code value associated with A. \n",
    "* **strip( )**: this function removes any spaces at the beginning or at the end of the string. \n",
    "\n",
    "To switch the keys/values in a dictionary value:\n",
    "<pre><code></code> dict([(v, k) for k, v in d.items()]) </code></pre> where v is value, k is key"
   ]
  },
  {
   "cell_type": "markdown",
   "metadata": {
    "nbgrader": {
     "grade": false,
     "grade_id": "c7",
     "locked": true,
     "schema_version": 3,
     "solution": false,
     "task": false
    }
   },
   "source": [
    "Now we are going to develop a Morse code function that will encrypt and decrypt Morse code. You may use the examples used in the previous sections as part of your funciton. You will be encrypting and decrypting the examples below:\n",
    "<pre><code>print(morse('python'))\n",
    "# .--. -.-- - .... --- -.\n",
    "print(morse('.--. -.-- - .... --- -.'))\n",
    "# PYTHON\n",
    "print(morse(morse('HEY')))\n",
    "# HEY</code></pre>\n"
   ]
  },
  {
   "cell_type": "code",
   "execution_count": 1,
   "metadata": {
    "collapsed": false,
    "jupyter": {
     "outputs_hidden": false
    },
    "nbgrader": {
     "grade": false,
     "grade_id": "c8",
     "locked": false,
     "schema_version": 3,
     "solution": true,
     "task": false
    }
   },
   "outputs": [],
   "source": [
    "# Creating function for Morse Code \n",
    "def morse(txt):\n",
    "    '''Morse code encryption and decryption'''\n",
    "    \n",
    "    ### BEGIN DICTIONARY DEFINITION CODE ###\n",
    "    # Write a dictionary definition for the Morse code #\n",
    "\n",
    "    ### END DICTIONARY DEFINITION CODE ### \n",
    "    \n",
    "    translation = '' # Let this be the output variable for this function morse()\n",
    "    \n",
    "    ### BEGIN ENCRYPTION CODE ###\n",
    "    # Write an if statement that detects if the input variable starts with a \".\" or \"-\". \n",
    "    # Write a variable will switch the key and values of the dictionary defition defined above #\n",
    "    # Write a line of code that will separate each character in the input variable by a empty space\n",
    "    # For each character, get the appropriate value from the new encryption dictionary. Add this value to output#\n",
    "    \n",
    "    ### END ENCRYPTION CODE ### \n",
    "    \n",
    "    ### BEGIN DEENCRYPTION CODE ### \n",
    "    # Write an else statement# \n",
    "    # Add a line that converts the input variable to upper case letters\n",
    "    # For each character, get the appropriate value from the decryption dictionary defined above.Concentate an empty space at the end of each dot and dash. # \n",
    "    ### END DEENCRYPTION CODE ### \n",
    "    \n",
    "    ### BEGIN OUTPUT CODE ###\n",
    "    # Write a line of code that returns the translation for encryption or decryption with the empty spaces removed. \n",
    "    ### END OUTPUT CODE ###"
   ]
  },
  {
   "cell_type": "code",
   "execution_count": 4,
   "metadata": {
    "collapsed": false,
    "jupyter": {
     "outputs_hidden": false
    },
    "nbgrader": {
     "grade": false,
     "grade_id": "c9",
     "locked": false,
     "remove": true,
     "schema_version": 3,
     "solution": false,
     "task": false
    }
   },
   "outputs": [
    {
     "name": "stdout",
     "output_type": "stream",
     "text": [
      ".--. -.-- - .... --- -.\n",
      "PYTHON\n",
      "HEY\n"
     ]
    }
   ],
   "source": [
    "def morse(txt):\n",
    "    '''Morse code encryption and decryption'''\n",
    "    \n",
    "    d = {'A':'.-','B':'-...','C':'-.-.','D':'-..','E':'.',\n",
    "         'F':'..-.','G':'--.','H':'....','I':'..','J':'.---',\n",
    "         'K':'-.-','L':'.-..','M':'--','N':'-.','O':'---',\n",
    "         'P':'.--.','Q':'--.-','R':'.-.','S':'...','T':'-',\n",
    "         'U':'..-','V':'...-','W':'.--','X':'-..-','Y':'-.--',\n",
    "         'Z':'--..', ' ':'.....'}\n",
    "    translation = ''\n",
    "    \n",
    "    # Encrypt Morsecode\n",
    "    if txt.startswith('.') or txt.startswith('−'):\n",
    "        # Swap key/values in d:\n",
    "        d_encrypt = dict([(v, k) for k, v in d.items()])\n",
    "        # Morse code is separated by empty space chars\n",
    "        txt = txt.split(' ')\n",
    "        for x in txt:\n",
    "            translation += d_encrypt.get(x)\n",
    "        \n",
    "    # Decrypt to Morsecode:\n",
    "    else:\n",
    "        txt = txt.upper()\n",
    "        for x in txt:\n",
    "            translation += d.get(x) + ' '\n",
    "    return translation.strip()\n",
    "print(morse('python'))\n",
    "# .--. -.-- - .... --- -.\n",
    "print(morse('.--. -.-- - .... --- -.'))\n",
    "# PYTHON\n",
    "print(morse(morse('HEY')))\n",
    "# HEY\n"
   ]
  },
  {
   "cell_type": "markdown",
   "metadata": {
    "nbgrader": {
     "grade": false,
     "grade_id": "c10",
     "locked": true,
     "schema_version": 3,
     "solution": false,
     "task": false
    }
   },
   "source": [
    "### TEST YOUR CODE ###\n",
    "Now let's test your code below. Run the cells below to check if they match. If there are no errors, then you successfully wrote a Morse code encryption and decryption function. "
   ]
  },
  {
   "cell_type": "code",
   "execution_count": 6,
   "metadata": {
    "collapsed": false,
    "jupyter": {
     "outputs_hidden": false
    },
    "nbgrader": {
     "grade": true,
     "grade_id": "c11",
     "locked": true,
     "points": 0,
     "schema_version": 3,
     "solution": false,
     "task": false
    }
   },
   "outputs": [],
   "source": [
    "from nose.tools import assert_equal\n",
    "\n",
    "assert_equal(morse('python'),'.--. -.-- - .... --- -.')\n",
    "assert_equal(morse('.--. -.-- - .... --- -.'),'PYTHON')\n",
    "assert_equal(morse(morse('HEY')),'HEY')"
   ]
  },
  {
   "cell_type": "markdown",
   "metadata": {
    "nbgrader": {
     "grade": false,
     "grade_id": "c12",
     "locked": true,
     "schema_version": 3,
     "solution": false,
     "task": false
    }
   },
   "source": [
    "### Congratulations ! You have successfully completed the Morse Code Section ###"
   ]
  }
 ],
 "metadata": {
  "kernelspec": {
   "display_name": "Python 3",
   "language": "python",
   "name": "python3"
  },
  "language_info": {
   "codemirror_mode": {
    "name": "ipython",
    "version": 3
   },
   "file_extension": ".py",
   "mimetype": "text/x-python",
   "name": "python",
   "nbconvert_exporter": "python",
   "pygments_lexer": "ipython3",
   "version": "3.6.5"
  }
 },
 "nbformat": 4,
 "nbformat_minor": 4
}
