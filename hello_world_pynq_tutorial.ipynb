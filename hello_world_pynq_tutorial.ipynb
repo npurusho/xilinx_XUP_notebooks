{
 "cells": [
  {
   "cell_type": "markdown",
   "metadata": {},
   "source": [
    "# PYNQ-Z2 Hello World Tutorial #\n"
   ]
  },
  {
   "cell_type": "markdown",
   "metadata": {},
   "source": [
    " This tutorial is adapted from our technical marketing team so that you can get begin to understand the Pynq board, set up your Pynq board, and also be able to run a simple application (\"Hello World\"). The associated tutorial applies to a PYNQ-Z2. \n",
    "\n",
    "**Note: this notebook assumes that the reader is familiar with Python and Jupyter Notebooks**"
   ]
  },
  {
   "cell_type": "markdown",
   "metadata": {},
   "source": [
    "### Hardware definitions needed for this tutorial ###\n",
    "\n",
    "1. **FPGA**: Field Programmable Gate Array is a semiconductor device based on a matrix of configurable logic blocks (gates) connected via programmable interconnects. A user configures these logic blocks to achieve their desired design. \n",
    "2. **Programmable Logic**: a technique used to reconfigure digital circuits. \n",
    "3. **Bistream**: a file that contains programming information for a FPGA. This information dictates how an embedded hardware platform behaves.\n",
    "4. **IP**: Intellectual property lets a user add IP modules to their designs in Vivado from various design sources. \n",
    "5. **Tcl**: a software language with built-in commands in Vivado IDE to guide the creation of a design and analyze design results. "
   ]
  },
  {
   "cell_type": "markdown",
   "metadata": {},
   "source": [
    "### What is Pynq? ###\n",
    "\n",
    "**Pynq** is an open-source framework that combines the benefits of Programmable Logic (PL) and easy-to-learn programming language Python. It is an all-in-one package containing Jupyter Notebook, Python, and Zynq. \n",
    "\n",
    "Let's dive more into the following layers:\n",
    " - Hardware Layer\n",
    " - Software Layer\n",
    " - Application Layer\n"
   ]
  },
  {
   "cell_type": "code",
   "execution_count": 2,
   "metadata": {
    "collapsed": false,
    "hide_input": true,
    "jupyter": {
     "outputs_hidden": false,
     "source_hidden": false
    }
   },
   "outputs": [
    {
     "ename": "ImportError",
     "evalue": "cannot import name 'print_formatted_text'",
     "output_type": "error",
     "traceback": [
      "\u001b[0;31m---------------------------------------------------------------------------\u001b[0m",
      "\u001b[0;31mImportError\u001b[0m                               Traceback (most recent call last)",
      "\u001b[0;32m<ipython-input-2-0db15d17e94d>\u001b[0m in \u001b[0;36m<module>\u001b[0;34m()\u001b[0m\n\u001b[1;32m      2\u001b[0m \u001b[0;32mfrom\u001b[0m \u001b[0mipywidgets\u001b[0m \u001b[0;32mimport\u001b[0m \u001b[0;34m*\u001b[0m\u001b[0;34m\u001b[0m\u001b[0m\n\u001b[1;32m      3\u001b[0m \u001b[0;32mfrom\u001b[0m \u001b[0mIPython\u001b[0m\u001b[0;34m.\u001b[0m\u001b[0mdisplay\u001b[0m \u001b[0;32mimport\u001b[0m \u001b[0mdisplay\u001b[0m\u001b[0;34m,\u001b[0m \u001b[0mMarkdown\u001b[0m\u001b[0;34m,\u001b[0m \u001b[0mHTML\u001b[0m\u001b[0;34m\u001b[0m\u001b[0m\n\u001b[0;32m----> 4\u001b[0;31m \u001b[0;32mfrom\u001b[0m \u001b[0mlib\u001b[0m\u001b[0;34m.\u001b[0m\u001b[0mhello_world_layer\u001b[0m \u001b[0;32mimport\u001b[0m \u001b[0;34m*\u001b[0m\u001b[0;34m\u001b[0m\u001b[0m\n\u001b[0m\u001b[1;32m      5\u001b[0m \u001b[0;34m\u001b[0m\u001b[0m\n\u001b[1;32m      6\u001b[0m \u001b[0mdisplay\u001b[0m\u001b[0;34m(\u001b[0m\u001b[0mMarkdown\u001b[0m\u001b[0;34m(\u001b[0m\u001b[0;34m'\\n <h5>Use the dropdown menu below to learn more about these different layer.</h5> \\n'\u001b[0m\u001b[0;34m)\u001b[0m\u001b[0;34m)\u001b[0m\u001b[0;34m\u001b[0m\u001b[0m\n",
      "\u001b[0;32m/home/xilinx/jupyter_notebooks/merg_notebooks-master/lib/hello_world_layer.py\u001b[0m in \u001b[0;36m<module>\u001b[0;34m()\u001b[0m\n\u001b[1;32m      4\u001b[0m \u001b[0;32mfrom\u001b[0m \u001b[0mIPython\u001b[0m\u001b[0;34m.\u001b[0m\u001b[0mdisplay\u001b[0m \u001b[0;32mimport\u001b[0m \u001b[0mdisplay\u001b[0m\u001b[0;34m,\u001b[0m \u001b[0mMarkdown\u001b[0m\u001b[0;34m\u001b[0m\u001b[0m\n\u001b[1;32m      5\u001b[0m \u001b[0;32mimport\u001b[0m \u001b[0mrandom\u001b[0m\u001b[0;34m\u001b[0m\u001b[0m\n\u001b[0;32m----> 6\u001b[0;31m \u001b[0;32mfrom\u001b[0m \u001b[0mprompt_toolkit\u001b[0m \u001b[0;32mimport\u001b[0m \u001b[0mprint_formatted_text\u001b[0m\u001b[0;34m,\u001b[0m \u001b[0mHTML\u001b[0m\u001b[0;34m\u001b[0m\u001b[0m\n\u001b[0m\u001b[1;32m      7\u001b[0m \u001b[0;32mimport\u001b[0m \u001b[0mmarkdown\u001b[0m\u001b[0;34m\u001b[0m\u001b[0m\n\u001b[1;32m      8\u001b[0m \u001b[0;34m\u001b[0m\u001b[0m\n",
      "\u001b[0;31mImportError\u001b[0m: cannot import name 'print_formatted_text'"
     ]
    }
   ],
   "source": [
    "import ipywidgets\n",
    "from ipywidgets import *\n",
    "from IPython.display import display, Markdown, HTML\n",
    "from lib.hello_world_layer import *\n",
    "\n",
    "display(Markdown('\\n <h5>Use the dropdown menu below to learn more about these different layer.</h5> \\n'))\n",
    "widgets.interact(platform_dropdown, desc_list=fixed(platform_descs), img_paths=fixed(platform_img_paths), dd_option=platforms)"
   ]
  },
  {
   "cell_type": "markdown",
   "metadata": {},
   "source": [
    "### PYNQ Benefits ###\n",
    "Now that we've covered the basics of the different layers, the following outlines the benefits of using PYNQ system:\n",
    "\n",
    " - Open Source\n",
    " - Access to Hardware libraries like they are software libraries\n",
    " - Not required to download extra software\n",
    " - Easy project installation with pip install command\n",
    " - Highly customization and flexible \n",
    "     - Create Pynq Images for custom boards (Created via Petalinux BOOT.BIN file)\n",
    "     - Add any RTL based IP to overlay"
   ]
  },
  {
   "cell_type": "code",
   "execution_count": 3,
   "metadata": {
    "collapsed": false,
    "jupyter": {
     "outputs_hidden": false,
     "source_hidden": false
    }
   },
   "outputs": [
    {
     "ename": "NameError",
     "evalue": "name 'questions_list' is not defined",
     "output_type": "error",
     "traceback": [
      "\u001b[0;31m---------------------------------------------------------------------------\u001b[0m",
      "\u001b[0;31mNameError\u001b[0m                                 Traceback (most recent call last)",
      "\u001b[0;32m<ipython-input-3-e34ea4dd483d>\u001b[0m in \u001b[0;36m<module>\u001b[0;34m()\u001b[0m\n\u001b[0;32m----> 1\u001b[0;31m \u001b[0mquestions\u001b[0m\u001b[0;34m=\u001b[0m\u001b[0mquestions_list\u001b[0m\u001b[0;34m(\u001b[0m\u001b[0;34m)\u001b[0m\u001b[0;34m\u001b[0m\u001b[0m\n\u001b[0m\u001b[1;32m      2\u001b[0m \u001b[0;32mfor\u001b[0m \u001b[0mi\u001b[0m \u001b[0;32min\u001b[0m \u001b[0mquestions\u001b[0m\u001b[0;34m:\u001b[0m\u001b[0;34m\u001b[0m\u001b[0m\n\u001b[1;32m      3\u001b[0m     \u001b[0mdisplay\u001b[0m\u001b[0;34m(\u001b[0m\u001b[0mi\u001b[0m\u001b[0;34m)\u001b[0m\u001b[0;34m\u001b[0m\u001b[0m\n",
      "\u001b[0;31mNameError\u001b[0m: name 'questions_list' is not defined"
     ]
    }
   ],
   "source": [
    "questions=questions_list()\n",
    "for i in questions:\n",
    "    display(i)"
   ]
  },
  {
   "cell_type": "markdown",
   "metadata": {},
   "source": [
    "### PYNQ-Z2 Highlights ### \n",
    "\n",
    "The Z2 board has many features that can be used for your design. Here is an overview of some the capabilities: \n",
    "\n",
    "| Overview | Memory & storage   | Power |\n",
    "|------|------|------|------|------|------|\n",
    "|<ul><li>650MHz ARM® Cortex® -A9 dual-core processor</li><li>Programmable logic <ul> <li>13,300 logic slices, each with four 6-input LUTs and 8 flip-flops</li><li>630 KB block RAM</li><li> 220 DSP slices</li><li>On-chip Xilinx analog-to-digital converter (XADC)</li></ul> </li><li>Programmable from JTAG, Quad-SPI flash, and MicroSD card</li></ul>|<ul><li>512MB DDR3 with 16-bit bus @ 1050Mbps</li><li>16MB Quad-SPI Flash with factory programmed 48-bit globally unique EUI-48/64™ compatible identifier</li><li>MicroSD slot</li></ul>|<ul><li>USB or 7V-15V external power regulator</li></ul>|\n",
    "\n",
    " | USB & Ethernet | Audio & Video | Switches, Push-buttons, & LEDS | Expansion Connectors |\n",
    " |------|------|------|------|\n",
    " |<ul><li>Gigabit Ethernet PHY</li><li>Micro USB-JTAG Programming circuitry</li><li>Micro USB-UART bridge</li><li>USB 2.0 OTG PHY (supports host only)</li></ul>|<ul><li>2x HDMI ports (input and output)</li><li>24bit I2S DAC with 3.5mm TRRS jack</li><li>Line-in with 3.5mm jack</li></ul>|<ul><li>4 push-buttons</li><li>2 slide switches</li><li>4 LEDs</li><li>2 RGB LEDs</li></ul>|<ul><li>2x Pmod ports <ul><li>16 Total FPGA I/O (8 pins on Pmod A are shared with Raspberry Pi connector)</li></ul></li><li>Arduino Shield compatible connector</li><ul><li>24 Total FPGA I/O</li><li>6 Single-ended 0-3.3V Analog inputs to XADC</li></ul><li>Raspberry Pi connector</li><ul><li>28 Total FPGA I/O (8 pins are shared with Pmod A)</li></ul></ul>|\n",
    "\n",
    "The Z2 board can be powered via a Micro-USB port, an external power supply, or battery. And PYNQ-Z2 supports MicroSD, Quad SPI Flash, and JTAG boot modes. You can dive more deeply into the features and capabilites of the PYNQ-Z2 in the manual below:\n",
    "\n",
    "Reference Manual: https://d2m32eurp10079.cloudfront.net/Download/PYNQ_Z2_User_Manual_v1.1.pdf"
   ]
  },
  {
   "cell_type": "markdown",
   "metadata": {},
   "source": [
    "## Hello World Tutorial ##\n",
    "\n",
    "#### To go through the tutorial you will need the following items: ####\n",
    "\n",
    "- Pynq Board\n",
    "- MicroUSB cable\n",
    "- Micro-SD card\n",
    "- Ethernet Cable\n",
    "- Access to your Wifi router\n"
   ]
  },
  {
   "cell_type": "code",
   "execution_count": 1,
   "metadata": {
    "collapsed": false,
    "jupyter": {
     "outputs_hidden": false
    }
   },
   "outputs": [
    {
     "name": "stderr",
     "output_type": "stream",
     "text": [
      "/usr/local/lib/python3.8/dist-packages/IPython/core/display.py:717: UserWarning: Consider using IPython.display.IFrame instead\n",
      "  warnings.warn(\"Consider using IPython.display.IFrame instead\")\n"
     ]
    },
    {
     "data": {
      "text/html": [
       "<iframe width=\"560\" height=\"315\" src=\"https://www.youtube.com/embed/RiFbRf6gaK4?rel=0&amp;controls=0&amp;showinfo=0\" frameborder=\"0\" allowfullscreen></iframe>"
      ],
      "text/plain": [
       "<IPython.core.display.HTML object>"
      ]
     },
     "execution_count": 1,
     "metadata": {},
     "output_type": "execute_result"
    }
   ],
   "source": [
    "from IPython.display import HTML, IFrame\n",
    "HTML('<iframe width=\"560\" height=\"315\" src=\"https://www.youtube.com/embed/RiFbRf6gaK4\" frameborder=\"0\" allow=\"accelerometer; autoplay; encrypted-media; gyroscope; picture-in-picture\" allowfullscreen></iframe>')"
   ]
  },
  {
   "cell_type": "markdown",
   "metadata": {},
   "source": [
    "To download the \"Hello World\" notebook, you will need to be connected to the Wifi Router. These steps are explained in the video above. \n",
    "\n",
    "The link below will direct you how to download the notebook. Make sure to open a Terminal in the Jupyter Notebook (The steps are also outlined in the video above): <br> <br>\n",
    "**https://github.com/Xilinx/PYNQ-HelloWorld/blob/master/README.md**"
   ]
  },
  {
   "cell_type": "markdown",
   "metadata": {},
   "source": [
    "## Additional Resources ##\n",
    "\n",
    "Pynq.io: Resource Website\n",
    "\n",
    " - Projects, community projects posted\n",
    " - Source code\n",
    " - Boot images\n",
    "\n",
    "Pynq.readthedocs.io: Wiki page for Pynq\n",
    "\n",
    " - Guides for getting started\n",
    " - Jupyter Notebooks\n",
    " - Overlays\n",
    "\n",
    "\n"
   ]
  }
 ],
 "metadata": {
  "kernelspec": {
   "display_name": "Python 3",
   "language": "python",
   "name": "python3"
  },
  "language_info": {
   "codemirror_mode": {
    "name": "ipython",
    "version": 3
   },
   "file_extension": ".py",
   "mimetype": "text/x-python",
   "name": "python",
   "nbconvert_exporter": "python",
   "pygments_lexer": "ipython3",
   "version": "3.6.5"
  }
 },
 "nbformat": 4,
 "nbformat_minor": 4
}
