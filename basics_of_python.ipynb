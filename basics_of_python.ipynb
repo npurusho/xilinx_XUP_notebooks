{
 "cells": [
  {
   "cell_type": "markdown",
   "metadata": {},
   "source": [
    "# Introduction to Python #\n",
    "\n",
    "Welcome to your introduction to Python. It is a very popular programming language, and is used by many developers, data scientists, and more. Python is the language interface for Xilinx's PYNQ. \n",
    "\n",
    "NOTE: Please complete the Introduction to Jupyter Notebook before continuing."
   ]
  },
  {
   "cell_type": "markdown",
   "metadata": {},
   "source": [
    "### Python Overview ###\n",
    "\n",
    "Python can be used to create web applications, generate workflows, connect to databases, handle big data & perform complex calculations, or prototyping. <br>\n",
    "\n",
    "Python runs on an interpreter system, which means that the code can be executed as soon as it is written, not needing any compiling. <br>\n",
    "\n",
    "The content in this notebook is extracted from the following website on Python training: https://www.w3schools.com/python/default.asp, and we will be using Python 3. \n",
    "\n",
    "Let's start with a basic function."
   ]
  },
  {
   "cell_type": "markdown",
   "metadata": {},
   "source": [
    "### Print function ### \n",
    "\n",
    "The print function is incredibly useful in displaying a string of text, or even outputting the value of a variable. Observe the cell below:"
   ]
  },
  {
   "cell_type": "code",
   "execution_count": 2,
   "metadata": {
    "collapsed": false,
    "jupyter": {
     "outputs_hidden": false
    }
   },
   "outputs": [
    {
     "name": "stdout",
     "output_type": "stream",
     "text": [
      "Hello Xilinx User\n"
     ]
    }
   ],
   "source": [
    "variable = \"Hello Xilinx User\"\n",
    "print(variable)"
   ]
  },
  {
   "cell_type": "markdown",
   "metadata": {},
   "source": [
    "### Indentation ###\n",
    "\n",
    "In Python, indentation is very important. Unlike other programming languages, the indentation indicates a block of code in Python, and you will receive errors if you do not use indentation properly. Use the same number of spaces in the same block code. Observe the two codes below. The first cell is correct. Please fix the code in the second cell. "
   ]
  },
  {
   "cell_type": "code",
   "execution_count": 3,
   "metadata": {
    "collapsed": false,
    "jupyter": {
     "outputs_hidden": false
    }
   },
   "outputs": [
    {
     "name": "stdout",
     "output_type": "stream",
     "text": [
      "True\n"
     ]
    }
   ],
   "source": [
    "if 10 > 1:\n",
    "    print(\"True\")"
   ]
  },
  {
   "cell_type": "code",
   "execution_count": 4,
   "metadata": {
    "collapsed": false,
    "jupyter": {
     "outputs_hidden": false
    }
   },
   "outputs": [
    {
     "ename": "IndentationError",
     "evalue": "expected an indented block (<ipython-input-4-baf2c2e8820f>, line 2)",
     "output_type": "error",
     "traceback": [
      "\u001b[0;36m  File \u001b[0;32m\"<ipython-input-4-baf2c2e8820f>\"\u001b[0;36m, line \u001b[0;32m2\u001b[0m\n\u001b[0;31m    print(\"False\")\u001b[0m\n\u001b[0m    ^\u001b[0m\n\u001b[0;31mIndentationError\u001b[0m\u001b[0;31m:\u001b[0m expected an indented block\n"
     ]
    }
   ],
   "source": [
    "if 1 == 0:\n",
    "print(\"False\")"
   ]
  },
  {
   "cell_type": "markdown",
   "metadata": {},
   "source": [
    "### Variables ###\n",
    "\n",
    "Variables are created when you assign a value. You do not need to assign a type to the variable. When creating a string variable you can declare it using single (' ') or double quotes (\" \")\n",
    "<pre><code>x = 10 \n",
    "y = \"String\"\n",
    "z = 'Another string'</code></pre>\n",
    "\n",
    "This is a guideline for creating variables: <br>\n",
    "- A variable can be short like \"x\" or \"y\" or longer descriptive name like number, statistics, bears\n",
    "- A variable must start with a letter, and **cannot** start with a number.\n",
    "- Variables are case-sensitive (name, NAME, and Name are different variables)\n",
    "\n",
    "You can also assign multiple variables in one line:\n",
    "<pre><code> x,y,z = \"first\",\"second\",\"third\"</code></pre>\n",
    "\n",
    "You can also assign the same value to multiple variables:\n",
    "<pre><code> x = y = z = \"same\"</code></pre>\n",
    "\n",
    "\n",
    "If you have variables that are strings, you can use the <kbd>+</kbd> character to add the variables in a combined string. <br>\n",
    "If you have variables that are numbers, you can use the <kbd>+</kbd> character to add the numbers. Observe the three cells below, and predict what will happen:"
   ]
  },
  {
   "cell_type": "code",
   "execution_count": 7,
   "metadata": {
    "collapsed": false,
    "jupyter": {
     "outputs_hidden": false
    }
   },
   "outputs": [
    {
     "name": "stdout",
     "output_type": "stream",
     "text": [
      "Combining this sentence into one\n"
     ]
    }
   ],
   "source": [
    "# Adding two strings\n",
    "x = \"Combining this sentence \"\n",
    "y = \"into one\"\n",
    "print(x+y)\n",
    "# If there is an error, fix it"
   ]
  },
  {
   "cell_type": "code",
   "execution_count": 6,
   "metadata": {
    "collapsed": false,
    "jupyter": {
     "outputs_hidden": false
    }
   },
   "outputs": [
    {
     "name": "stdout",
     "output_type": "stream",
     "text": [
      "15\n"
     ]
    }
   ],
   "source": [
    "# Adding two numbers\n",
    "x = 10\n",
    "y = 5\n",
    "print(x+5)\n",
    "# If there is an error, fix it"
   ]
  },
  {
   "cell_type": "code",
   "execution_count": 2,
   "metadata": {
    "collapsed": false,
    "jupyter": {
     "outputs_hidden": false
    }
   },
   "outputs": [
    {
     "ename": "TypeError",
     "evalue": "can only concatenate str (not \"int\") to str",
     "output_type": "error",
     "traceback": [
      "\u001b[0;31m---------------------------------------------------------------------------\u001b[0m",
      "\u001b[0;31mTypeError\u001b[0m                                 Traceback (most recent call last)",
      "\u001b[0;32m<ipython-input-2-00f87fbef740>\u001b[0m in \u001b[0;36m<module>\u001b[0;34m\u001b[0m\n\u001b[1;32m      1\u001b[0m \u001b[0mx\u001b[0m \u001b[0;34m=\u001b[0m \u001b[0;34m\"4\"\u001b[0m\u001b[0;34m\u001b[0m\u001b[0;34m\u001b[0m\u001b[0m\n\u001b[1;32m      2\u001b[0m \u001b[0my\u001b[0m \u001b[0;34m=\u001b[0m \u001b[0;36m5\u001b[0m\u001b[0;34m\u001b[0m\u001b[0;34m\u001b[0m\u001b[0m\n\u001b[0;32m----> 3\u001b[0;31m \u001b[0mprint\u001b[0m\u001b[0;34m(\u001b[0m\u001b[0mx\u001b[0m\u001b[0;34m+\u001b[0m\u001b[0my\u001b[0m\u001b[0;34m)\u001b[0m \u001b[0;31m# This will error\u001b[0m\u001b[0;34m\u001b[0m\u001b[0;34m\u001b[0m\u001b[0m\n\u001b[0m\u001b[1;32m      4\u001b[0m \u001b[0;31m# To fix the bug, either turn 5 into a string \"5\" or remove the quotations from 4.\u001b[0m\u001b[0;34m\u001b[0m\u001b[0;34m\u001b[0m\u001b[0;34m\u001b[0m\u001b[0m\n",
      "\u001b[0;31mTypeError\u001b[0m: can only concatenate str (not \"int\") to str"
     ]
    }
   ],
   "source": [
    "# Adding a number and a string\n",
    "x = \"4\"\n",
    "y = 5\n",
    "print(x+y)\n",
    "# If there is an error, fix it"
   ]
  },
  {
   "cell_type": "markdown",
   "metadata": {},
   "source": [
    "### Comments ###\n",
    "\n",
    "Commenting out lines of code is very useful in documenting code. When you comment out a line, it will be ignored by the intrepreter, but other users can look over your code and read the comments you type out. For example: \n",
    "<pre><code>#This line is commented out. \n",
    "x = 10 # Here in this line we are defining a variable \"x\" with a value of 10. \n",
    "</code></pre>\n",
    "\n",
    "Observe code example below and notice which string is printed out. "
   ]
  },
  {
   "cell_type": "code",
   "execution_count": 13,
   "metadata": {
    "collapsed": false,
    "jupyter": {
     "outputs_hidden": false
    }
   },
   "outputs": [
    {
     "name": "stdout",
     "output_type": "stream",
     "text": [
      "This is code\n"
     ]
    }
   ],
   "source": [
    "# print(\"This is a comment\")\n",
    "print(\"This is code\")"
   ]
  },
  {
   "cell_type": "markdown",
   "metadata": {},
   "source": [
    "### Python Operators ### \n",
    "\n",
    "These are some common operators that you will utilize when using Python\n",
    "\n",
    "##### Arithmetic Operators #####\n",
    "\n",
    "| Operator Keys | Name    | Example | Result |\n",
    "|---------------|---------|---------|---------|\n",
    "|      +        | Addition|   3 + 4 |7|\n",
    "|      -        | Subtraction|   4 - 3 |1|\n",
    "|      *        | Multiplication|   3 * 4 |12|\n",
    "|      /        | Division|   12 / 4 |3|\n",
    "|      %        | Modulus/Remainder operator|   4 % 3 | 1 |\n",
    "|      **        | Exponentiation|   3 ** 2 |9|\n",
    "|      //        | Floor Divison (only whole numbers)|   2 // 3 |0|\n",
    "\n",
    "\n",
    "##### Assignment Operators #####\n",
    "\n",
    "| Operator Keys | Example    | Equivalent to | \n",
    "|---------------|---------|---------|\n",
    "|      =        | x = 1|   x= 1 |\n",
    "|      +=        | x += 1 |   x = x + 1 |\n",
    "|      -=     |  x -= 1 |   x = x - 1|\n",
    "|      *=      |  x *= 1 |   x = x * 1|\n",
    "|      /=      |  x /= 1 |   x = x / 1| \n",
    "|      %=    |  x %= 1 |   x = x % 1|\n",
    "|      //=       | x //= 1 |   x = x // 1 \n",
    "| **=  |  x **= 1 |   x = x ** 1|\n",
    "\n",
    "\n",
    "##### Comparison Operators #####\n",
    "\n",
    "| Operator Keys | Name    |\n",
    "|---------------|---------|\n",
    "|      ==       | Equal|\n",
    "|      !=       | Not Equal|\n",
    "|      >       | Greater Than|\n",
    "|      <       | Less Than|\n",
    "|      >=       | Greater Than or Equal to|\n",
    "|      <=      | Less Than or Equal to|"
   ]
  },
  {
   "cell_type": "markdown",
   "metadata": {},
   "source": [
    "If you want more coding examples with Python, you can check the \"Morse Code\" notebook."
   ]
  }
 ],
 "metadata": {
  "kernelspec": {
   "display_name": "Python 3",
   "language": "python",
   "name": "python3"
  },
  "language_info": {
   "codemirror_mode": {
    "name": "ipython",
    "version": 3
   },
   "file_extension": ".py",
   "mimetype": "text/x-python",
   "name": "python",
   "nbconvert_exporter": "python",
   "pygments_lexer": "ipython3",
   "version": "3.6.5"
  }
 },
 "nbformat": 4,
 "nbformat_minor": 4
}
